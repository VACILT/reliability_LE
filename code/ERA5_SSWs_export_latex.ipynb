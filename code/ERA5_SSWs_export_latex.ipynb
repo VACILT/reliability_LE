{
 "cells": [
  {
   "cell_type": "code",
   "execution_count": 12,
   "id": "dc063761-4ac4-4c45-b36f-1b3371c17877",
   "metadata": {
    "tags": []
   },
   "outputs": [],
   "source": [
    "import numpy as np\n",
    "import pandas as pd"
   ]
  },
  {
   "cell_type": "code",
   "execution_count": 6,
   "id": "c7a13424-fdef-44e3-ae3d-6f5e54ba66ad",
   "metadata": {
    "tags": []
   },
   "outputs": [
    {
     "name": "stdout",
     "output_type": "stream",
     "text": [
      "/home/b/b381258/mistral_home/notebooks/SSWs_stats\n"
     ]
    }
   ],
   "source": [
    "!pwd"
   ]
  },
  {
   "cell_type": "code",
   "execution_count": 8,
   "id": "2077e5aa-91c2-4adc-9d30-3a516abdfb16",
   "metadata": {
    "tags": []
   },
   "outputs": [
    {
     "data": {
      "text/plain": [
       "36"
      ]
     },
     "execution_count": 8,
     "metadata": {},
     "output_type": "execute_result"
    }
   ],
   "source": [
    "(2014-1979+1)"
   ]
  },
  {
   "cell_type": "code",
   "execution_count": 10,
   "id": "bab046ed-dd7e-4807-9439-f6af082931f7",
   "metadata": {
    "tags": []
   },
   "outputs": [],
   "source": [
    "out_dir = './'\n",
    "model = 'ERA5'\n",
    "ny = (2014-1979+1)\n",
    "split_dates=np.load(f'{out_dir}{model}_disp_dates_all.npy',allow_pickle=True)\n",
    "ns = len(split_dates)/ny*10.\n",
    "#mode = ds_mode['mode_latcent'].values"
   ]
  },
  {
   "cell_type": "code",
   "execution_count": 14,
   "id": "a766ad7d-f72b-4fa2-b41e-e8f8ccc496bb",
   "metadata": {
    "tags": []
   },
   "outputs": [
    {
     "data": {
      "text/html": [
       "<div>\n",
       "<style scoped>\n",
       "    .dataframe tbody tr th:only-of-type {\n",
       "        vertical-align: middle;\n",
       "    }\n",
       "\n",
       "    .dataframe tbody tr th {\n",
       "        vertical-align: top;\n",
       "    }\n",
       "\n",
       "    .dataframe thead th {\n",
       "        text-align: right;\n",
       "    }\n",
       "</style>\n",
       "<table border=\"1\" class=\"dataframe\">\n",
       "  <thead>\n",
       "    <tr style=\"text-align: right;\">\n",
       "      <th></th>\n",
       "      <th>onset dates</th>\n",
       "      <th>vortex type</th>\n",
       "    </tr>\n",
       "  </thead>\n",
       "  <tbody>\n",
       "    <tr>\n",
       "      <th>0</th>\n",
       "      <td>1979-02-22</td>\n",
       "      <td>split</td>\n",
       "    </tr>\n",
       "    <tr>\n",
       "      <th>1</th>\n",
       "      <td>1980-02-29</td>\n",
       "      <td>displaced</td>\n",
       "    </tr>\n",
       "    <tr>\n",
       "      <th>2</th>\n",
       "      <td>1981-03-04</td>\n",
       "      <td>displaced</td>\n",
       "    </tr>\n",
       "    <tr>\n",
       "      <th>3</th>\n",
       "      <td>1981-12-04</td>\n",
       "      <td>unclassified</td>\n",
       "    </tr>\n",
       "    <tr>\n",
       "      <th>4</th>\n",
       "      <td>1984-02-23</td>\n",
       "      <td>displaced</td>\n",
       "    </tr>\n",
       "    <tr>\n",
       "      <th>5</th>\n",
       "      <td>1985-01-01</td>\n",
       "      <td>split</td>\n",
       "    </tr>\n",
       "    <tr>\n",
       "      <th>6</th>\n",
       "      <td>1987-01-23</td>\n",
       "      <td>displaced</td>\n",
       "    </tr>\n",
       "    <tr>\n",
       "      <th>7</th>\n",
       "      <td>1987-12-08</td>\n",
       "      <td>split</td>\n",
       "    </tr>\n",
       "    <tr>\n",
       "      <th>8</th>\n",
       "      <td>1988-03-14</td>\n",
       "      <td>split</td>\n",
       "    </tr>\n",
       "    <tr>\n",
       "      <th>9</th>\n",
       "      <td>1989-02-21</td>\n",
       "      <td>split</td>\n",
       "    </tr>\n",
       "    <tr>\n",
       "      <th>10</th>\n",
       "      <td>1998-12-15</td>\n",
       "      <td>displaced</td>\n",
       "    </tr>\n",
       "    <tr>\n",
       "      <th>11</th>\n",
       "      <td>1999-02-25</td>\n",
       "      <td>split</td>\n",
       "    </tr>\n",
       "    <tr>\n",
       "      <th>12</th>\n",
       "      <td>2000-03-20</td>\n",
       "      <td>displaced</td>\n",
       "    </tr>\n",
       "    <tr>\n",
       "      <th>13</th>\n",
       "      <td>2001-02-11</td>\n",
       "      <td>split</td>\n",
       "    </tr>\n",
       "    <tr>\n",
       "      <th>14</th>\n",
       "      <td>2001-12-30</td>\n",
       "      <td>displaced</td>\n",
       "    </tr>\n",
       "    <tr>\n",
       "      <th>15</th>\n",
       "      <td>2002-02-17</td>\n",
       "      <td>displaced</td>\n",
       "    </tr>\n",
       "    <tr>\n",
       "      <th>16</th>\n",
       "      <td>2003-01-18</td>\n",
       "      <td>split</td>\n",
       "    </tr>\n",
       "    <tr>\n",
       "      <th>17</th>\n",
       "      <td>2004-01-05</td>\n",
       "      <td>displaced</td>\n",
       "    </tr>\n",
       "    <tr>\n",
       "      <th>18</th>\n",
       "      <td>2006-01-21</td>\n",
       "      <td>displaced</td>\n",
       "    </tr>\n",
       "    <tr>\n",
       "      <th>19</th>\n",
       "      <td>2007-02-24</td>\n",
       "      <td>displaced</td>\n",
       "    </tr>\n",
       "    <tr>\n",
       "      <th>20</th>\n",
       "      <td>2008-02-22</td>\n",
       "      <td>displaced</td>\n",
       "    </tr>\n",
       "    <tr>\n",
       "      <th>21</th>\n",
       "      <td>2009-01-24</td>\n",
       "      <td>split</td>\n",
       "    </tr>\n",
       "    <tr>\n",
       "      <th>22</th>\n",
       "      <td>2010-02-09</td>\n",
       "      <td>displaced</td>\n",
       "    </tr>\n",
       "    <tr>\n",
       "      <th>23</th>\n",
       "      <td>2010-03-24</td>\n",
       "      <td>displaced</td>\n",
       "    </tr>\n",
       "    <tr>\n",
       "      <th>24</th>\n",
       "      <td>2013-01-06</td>\n",
       "      <td>split</td>\n",
       "    </tr>\n",
       "  </tbody>\n",
       "</table>\n",
       "</div>"
      ],
      "text/plain": [
       "   onset dates   vortex type\n",
       "0   1979-02-22         split\n",
       "1   1980-02-29     displaced\n",
       "2   1981-03-04     displaced\n",
       "3   1981-12-04  unclassified\n",
       "4   1984-02-23     displaced\n",
       "5   1985-01-01         split\n",
       "6   1987-01-23     displaced\n",
       "7   1987-12-08         split\n",
       "8   1988-03-14         split\n",
       "9   1989-02-21         split\n",
       "10  1998-12-15     displaced\n",
       "11  1999-02-25         split\n",
       "12  2000-03-20     displaced\n",
       "13  2001-02-11         split\n",
       "14  2001-12-30     displaced\n",
       "15  2002-02-17     displaced\n",
       "16  2003-01-18         split\n",
       "17  2004-01-05     displaced\n",
       "18  2006-01-21     displaced\n",
       "19  2007-02-24     displaced\n",
       "20  2008-02-22     displaced\n",
       "21  2009-01-24         split\n",
       "22  2010-02-09     displaced\n",
       "23  2010-03-24     displaced\n",
       "24  2013-01-06         split"
      ]
     },
     "execution_count": 14,
     "metadata": {},
     "output_type": "execute_result"
    }
   ],
   "source": [
    "df = pd.read_csv('ERA5.csv', index_col = 0)\n",
    "df"
   ]
  },
  {
   "cell_type": "code",
   "execution_count": 17,
   "id": "f7b2a673-c62c-472a-a571-558f54ca7454",
   "metadata": {
    "tags": []
   },
   "outputs": [
    {
     "name": "stdout",
     "output_type": "stream",
     "text": [
      "\\begin{table}\n",
      "\\caption{List of SSWs in ERA5}\n",
      "\\label{tab:ssws_ERA5}\n",
      "\\begin{tabular}{lll}\n",
      "\\toprule\n",
      " & onset dates & vortex type \\\\\n",
      "\\midrule\n",
      "0 & 1979-02-22 & split \\\\\n",
      "1 & 1980-02-29 & displaced \\\\\n",
      "2 & 1981-03-04 & displaced \\\\\n",
      "3 & 1981-12-04 & unclassified \\\\\n",
      "4 & 1984-02-23 & displaced \\\\\n",
      "5 & 1985-01-01 & split \\\\\n",
      "6 & 1987-01-23 & displaced \\\\\n",
      "7 & 1987-12-08 & split \\\\\n",
      "8 & 1988-03-14 & split \\\\\n",
      "9 & 1989-02-21 & split \\\\\n",
      "10 & 1998-12-15 & displaced \\\\\n",
      "11 & 1999-02-25 & split \\\\\n",
      "12 & 2000-03-20 & displaced \\\\\n",
      "13 & 2001-02-11 & split \\\\\n",
      "14 & 2001-12-30 & displaced \\\\\n",
      "15 & 2002-02-17 & displaced \\\\\n",
      "16 & 2003-01-18 & split \\\\\n",
      "17 & 2004-01-05 & displaced \\\\\n",
      "18 & 2006-01-21 & displaced \\\\\n",
      "19 & 2007-02-24 & displaced \\\\\n",
      "20 & 2008-02-22 & displaced \\\\\n",
      "21 & 2009-01-24 & split \\\\\n",
      "22 & 2010-02-09 & displaced \\\\\n",
      "23 & 2010-03-24 & displaced \\\\\n",
      "24 & 2013-01-06 & split \\\\\n",
      "\\bottomrule\n",
      "\\end{tabular}\n",
      "\\end{table}\n",
      "\n"
     ]
    }
   ],
   "source": [
    "print(df.to_latex(caption = 'List of SSWs in ERA5', label = 'tab:ssws_ERA5'))"
   ]
  }
 ],
 "metadata": {
  "kernelspec": {
   "display_name": "1 Python 3 (based on the module python3/2023.01)",
   "language": "python",
   "name": "python3_2023_01"
  },
  "language_info": {
   "codemirror_mode": {
    "name": "ipython",
    "version": 3
   },
   "file_extension": ".py",
   "mimetype": "text/x-python",
   "name": "python",
   "nbconvert_exporter": "python",
   "pygments_lexer": "ipython3",
   "version": "3.10.10"
  }
 },
 "nbformat": 4,
 "nbformat_minor": 5
}
